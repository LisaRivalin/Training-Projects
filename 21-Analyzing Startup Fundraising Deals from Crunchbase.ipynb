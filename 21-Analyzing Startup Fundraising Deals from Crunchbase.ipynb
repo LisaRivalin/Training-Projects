{
 "cells": [
  {
   "cell_type": "markdown",
   "metadata": {},
   "source": [
    "<h1>\n",
    "<center>\n",
    "Dataquest Guided Project 21:\n",
    "Analyzing Startup Fundraising Deals from Crunchbase\n",
    "</center>\n",
    "</h1>"
   ]
  },
  {
   "cell_type": "markdown",
   "metadata": {},
   "source": [
    "## Introduction"
   ]
  },
  {
   "cell_type": "markdown",
   "metadata": {},
   "source": [
    "This is part of the Dataquest program.\n",
    "\n",
    "- part of paths **Data Engineer**\n",
    "    - Step 2: **Handling Large Data Sets in Python**\n",
    "        - Course 1 :  **Processing Large Data sets in Pandas **\n",
    "            - Optimizing Dataframe Memory Footprint\n",
    "            - Processing Dataframes in Chunks\n",
    "            - Augmenting Pandas with SQLite\n",
    "       \n",
    "As this is a guided project, we are following and deepening the steps suggested by Dataquest. In this project, we will practise working with large datasets in pandas."
   ]
  },
  {
   "cell_type": "markdown",
   "metadata": {},
   "source": [
    "## Use case : Analyzing Startup Fundraising Deals from Crunchbase"
   ]
  },
  {
   "cell_type": "markdown",
   "metadata": {},
   "source": [
    "Every year, thousands of startup companies raise financing from investors. Each time a startup raises money, we refer to the event as a fundraising round. Crunchbase is a website that crowdsources information on the fundraising rounds of many startups. The Crunchbase user community submits, edits, and maintains most of the information in Crunchbase.\n",
    "\n",
    "In return, Crunchbase makes the data available through a Web application and a fee-based API. Before Crunchbase switched to the paid API model, multiple groups crawled the site and released the data online. Because the information on the startups and their fundraising rounds is always changing, the data set we'll be using isn't completely up to date.\n",
    "\n",
    "The data set of investments we'll be exploring is current as of October 2013. You can download it from [GitHub](https://github.com/datahoarder/crunchbase-october-2013/blob/master/crunchbase-investments.csv).\n",
    "\n",
    "Throughout this guided project, we'll practice working with different memory constraints. In this step, let's assume we only have 10 megabytes of available memory. While crunchbase-investments.csv consumes 10.3 megabytes of disk space, we know that pandas often requires 4 to 6 times amount of space in memory as the file does on disk (especially when there's many string columns)."
   ]
  },
  {
   "cell_type": "markdown",
   "metadata": {},
   "source": [
    "## Read the data"
   ]
  },
  {
   "cell_type": "code",
   "execution_count": 1,
   "metadata": {
    "collapsed": true
   },
   "outputs": [],
   "source": [
    "import pandas as pd\n",
    "pd.options.display.max_columns = 99\n",
    "chunk_iter = pd.read_csv('crunchbase-investments.csv', chunksize=5000, encoding='ISO-8859-1')"
   ]
  },
  {
   "cell_type": "markdown",
   "metadata": {},
   "source": [
    "We want to check, across all of the chunks, each column's missing value counts, each column's memory footprint, the total memory footprint of all the chunk combined and which column we can drop because they are not useful for analysis."
   ]
  },
  {
   "cell_type": "code",
   "execution_count": 2,
   "metadata": {
    "collapsed": true
   },
   "outputs": [],
   "source": [
    "import pandas as pd\n",
    "pd.options.display.max_columns = 99\n",
    "chunk_iter = pd.read_csv('crunchbase-investments.csv', chunksize=5000, encoding='ISO-8859-1')"
   ]
  },
  {
   "cell_type": "markdown",
   "metadata": {},
   "source": [
    "### Missing Values"
   ]
  },
  {
   "cell_type": "code",
   "execution_count": 3,
   "metadata": {},
   "outputs": [
    {
     "data": {
      "text/plain": [
       "company_country_code          1\n",
       "company_name                  1\n",
       "company_permalink             1\n",
       "company_region                1\n",
       "investor_region               2\n",
       "investor_permalink            2\n",
       "investor_name                 2\n",
       "funded_quarter                3\n",
       "funded_at                     3\n",
       "funded_month                  3\n",
       "funded_year                   3\n",
       "funding_round_type            3\n",
       "company_state_code          492\n",
       "company_city                533\n",
       "company_category_code       643\n",
       "raised_amount_usd          3599\n",
       "investor_country_code     12001\n",
       "investor_city             12480\n",
       "investor_state_code       16809\n",
       "investor_category_code    50427\n",
       "dtype: int64"
      ]
     },
     "execution_count": 3,
     "metadata": {},
     "output_type": "execute_result"
    }
   ],
   "source": [
    "mv_list = []\n",
    "for chunk in chunk_iter:\n",
    "    mv_list.append(chunk.isnull().sum())\n",
    "    \n",
    "combined_mv = pd.concat(mv_list)\n",
    "unique_combined_mv_vc = combined_mv.groupby(combined_mv.index).sum()\n",
    "unique_combined_mv_vc.sort_values()"
   ]
  },
  {
   "cell_type": "markdown",
   "metadata": {},
   "source": [
    "### Memory footprint for each column"
   ]
  },
  {
   "cell_type": "code",
   "execution_count": 4,
   "metadata": {},
   "outputs": [
    {
     "data": {
      "text/plain": [
       "Index                         920\n",
       "company_permalink         4057788\n",
       "company_name              3591326\n",
       "company_category_code     3421104\n",
       "company_country_code      3172176\n",
       "company_state_code        3106051\n",
       "company_region            3411585\n",
       "company_city              3505926\n",
       "investor_permalink        4980548\n",
       "investor_name             3915666\n",
       "investor_category_code     622424\n",
       "investor_country_code     2647292\n",
       "investor_state_code       2476607\n",
       "investor_region           3396281\n",
       "investor_city             2885083\n",
       "funding_round_type        3410707\n",
       "funded_at                 3542185\n",
       "funded_month              3383584\n",
       "funded_quarter            3383584\n",
       "funded_year                422960\n",
       "raised_amount_usd          422960\n",
       "dtype: int64"
      ]
     },
     "execution_count": 4,
     "metadata": {},
     "output_type": "execute_result"
    }
   ],
   "source": [
    "chunk_iter = pd.read_csv('crunchbase-investments.csv', chunksize=5000, encoding='ISO-8859-1')\n",
    "counter = 0\n",
    "series_memory_fp = pd.Series()\n",
    "for chunk in chunk_iter:\n",
    "    if counter == 0:\n",
    "        series_memory_fp = chunk.memory_usage(deep=True)\n",
    "    else:\n",
    "        series_memory_fp += chunk.memory_usage(deep=True)\n",
    "    counter += 1\n",
    "series_memory_fp"
   ]
  },
  {
   "cell_type": "markdown",
   "metadata": {},
   "source": [
    "### Total memory footprint of all the chunk combined"
   ]
  },
  {
   "cell_type": "code",
   "execution_count": 5,
   "metadata": {},
   "outputs": [
    {
     "data": {
      "text/plain": [
       "56.988484382629395"
      ]
     },
     "execution_count": 5,
     "metadata": {},
     "output_type": "execute_result"
    }
   ],
   "source": [
    "series_memory_fp.sum() / (1024 * 1024)"
   ]
  },
  {
   "cell_type": "markdown",
   "metadata": {},
   "source": [
    "### Columns to drop"
   ]
  },
  {
   "cell_type": "code",
   "execution_count": 6,
   "metadata": {
    "collapsed": true
   },
   "outputs": [],
   "source": [
    "# Drop columns representing URL's or containing way too many missing values (>90% missing)\n",
    "drop_cols = ['investor_permalink', 'company_permalink', 'investor_category_code']\n",
    "keep_cols = chunk.columns.drop(drop_cols)"
   ]
  },
  {
   "cell_type": "code",
   "execution_count": 7,
   "metadata": {},
   "outputs": [
    {
     "data": {
      "text/plain": [
       "<bound method Index.tolist of Index(['company_name', 'company_category_code', 'company_country_code',\n",
       "       'company_state_code', 'company_region', 'company_city', 'investor_name',\n",
       "       'investor_country_code', 'investor_state_code', 'investor_region',\n",
       "       'investor_city', 'funding_round_type', 'funded_at', 'funded_month',\n",
       "       'funded_quarter', 'funded_year', 'raised_amount_usd'],\n",
       "      dtype='object')>"
      ]
     },
     "execution_count": 7,
     "metadata": {},
     "output_type": "execute_result"
    }
   ],
   "source": [
    "keep_cols.tolist"
   ]
  },
  {
   "cell_type": "markdown",
   "metadata": {},
   "source": [
    "## Selecting Data Types"
   ]
  },
  {
   "cell_type": "markdown",
   "metadata": {},
   "source": [
    "Let's first determine which columns shift types across chunks. "
   ]
  },
  {
   "cell_type": "code",
   "execution_count": 8,
   "metadata": {},
   "outputs": [],
   "source": [
    "# Key: Column name, Value: List of types\n",
    "col_types = {}\n",
    "chunk_iter = pd.read_csv('crunchbase-investments.csv', chunksize=5000, encoding='ISO-8859-1', usecols=keep_cols)\n",
    "\n",
    "for chunk in chunk_iter:\n",
    "    for col in chunk.columns:\n",
    "        if col not in col_types:\n",
    "            col_types[col] = [str(chunk.dtypes[col])]\n",
    "        else:\n",
    "            col_types[col].append(str(chunk.dtypes[col]))"
   ]
  },
  {
   "cell_type": "code",
   "execution_count": 9,
   "metadata": {},
   "outputs": [
    {
     "data": {
      "text/plain": [
       "{'company_category_code': {'object'},\n",
       " 'company_city': {'object'},\n",
       " 'company_country_code': {'object'},\n",
       " 'company_name': {'object'},\n",
       " 'company_region': {'object'},\n",
       " 'company_state_code': {'object'},\n",
       " 'funded_at': {'object'},\n",
       " 'funded_month': {'object'},\n",
       " 'funded_quarter': {'object'},\n",
       " 'funded_year': {'float64', 'int64'},\n",
       " 'funding_round_type': {'object'},\n",
       " 'investor_city': {'float64', 'object'},\n",
       " 'investor_country_code': {'float64', 'object'},\n",
       " 'investor_name': {'object'},\n",
       " 'investor_region': {'object'},\n",
       " 'investor_state_code': {'float64', 'object'},\n",
       " 'raised_amount_usd': {'float64'}}"
      ]
     },
     "execution_count": 9,
     "metadata": {},
     "output_type": "execute_result"
    }
   ],
   "source": [
    "uniq_col_types = {}\n",
    "for k,v in col_types.items():\n",
    "    uniq_col_types[k] = set(col_types[k])\n",
    "uniq_col_types"
   ]
  },
  {
   "cell_type": "code",
   "execution_count": 10,
   "metadata": {
    "collapsed": true
   },
   "outputs": [],
   "source": [
    "convert_col_dtypes = {\n",
    "    \"company_category_code\": \"category\",\n",
    "    \"company_country_code\" : \"category\",\n",
    "    \"company_state_code\" : \"category\",\n",
    "    \"funded_quarter\" : \"category\",\n",
    "    \"funding_round_type\": \"category\",\n",
    "    \"investor_country_code\": \"category\",\n",
    "    \"investor_state_code\": \"category\"   \n",
    "}"
   ]
  },
  {
   "cell_type": "code",
   "execution_count": 11,
   "metadata": {},
   "outputs": [
    {
     "data": {
      "text/plain": [
       "Index                         920\n",
       "company_permalink         4057788\n",
       "company_name              3591326\n",
       "company_category_code       96448\n",
       "company_country_code        53674\n",
       "company_state_code          96101\n",
       "company_region            3411585\n",
       "company_city              3505926\n",
       "investor_permalink        4980548\n",
       "investor_name             3915666\n",
       "investor_category_code     622424\n",
       "investor_country_code       82990\n",
       "investor_state_code         83683\n",
       "investor_region           3396281\n",
       "investor_city             2885083\n",
       "funding_round_type          62126\n",
       "funded_at                  422960\n",
       "funded_month               422960\n",
       "funded_quarter             123014\n",
       "funded_year                422960\n",
       "raised_amount_usd          422960\n",
       "dtype: int64"
      ]
     },
     "execution_count": 11,
     "metadata": {},
     "output_type": "execute_result"
    }
   ],
   "source": [
    "chunk_iter = pd.read_csv('crunchbase-investments.csv', chunksize=5000, dtype=convert_col_dtypes, \n",
    "                         parse_dates=[\"funded_at\", \"funded_month\", \"funded_year\"],\n",
    "                         encoding='ISO-8859-1')\n",
    "counter = 0\n",
    "series_memory_fp = pd.Series()\n",
    "for chunk in chunk_iter:\n",
    "    if counter == 0:\n",
    "        series_memory_fp = chunk.memory_usage(deep=True)\n",
    "    else:\n",
    "        series_memory_fp += chunk.memory_usage(deep=True)\n",
    "    counter += 1\n",
    "series_memory_fp"
   ]
  },
  {
   "cell_type": "code",
   "execution_count": 12,
   "metadata": {},
   "outputs": [
    {
     "data": {
      "text/plain": [
       "31.144545555114746"
      ]
     },
     "execution_count": 12,
     "metadata": {},
     "output_type": "execute_result"
    }
   ],
   "source": [
    "series_memory_fp.sum() / (1024 * 1024)"
   ]
  },
  {
   "cell_type": "markdown",
   "metadata": {},
   "source": [
    "We decreased the memory footprint from 56 megabytes to 31 megabytes."
   ]
  },
  {
   "cell_type": "markdown",
   "metadata": {},
   "source": [
    "## Loading Chunks into SQLite"
   ]
  },
  {
   "cell_type": "code",
   "execution_count": 36,
   "metadata": {
    "collapsed": true
   },
   "outputs": [],
   "source": [
    "import sqlite3\n",
    "conn = sqlite3.connect('crunchbase.db')\n",
    "\n",
    "for chunk in chunk_iter:\n",
    "    chunk.to_sql(\"investments\", conn, if_exists='append', index=False)"
   ]
  },
  {
   "cell_type": "code",
   "execution_count": 42,
   "metadata": {},
   "outputs": [
    {
     "data": {
      "text/plain": [
       "[(0, 'company_permalink', 'TEXT', 0, None, 0),\n",
       " (1, 'company_name', 'TEXT', 0, None, 0),\n",
       " (2, 'company_category_code', 'TEXT', 0, None, 0),\n",
       " (3, 'company_country_code', 'TEXT', 0, None, 0),\n",
       " (4, 'company_state_code', 'TEXT', 0, None, 0),\n",
       " (5, 'company_region', 'TEXT', 0, None, 0),\n",
       " (6, 'company_city', 'TEXT', 0, None, 0),\n",
       " (7, 'investor_permalink', 'TEXT', 0, None, 0),\n",
       " (8, 'investor_name', 'TEXT', 0, None, 0),\n",
       " (9, 'investor_category_code', 'TEXT', 0, None, 0),\n",
       " (10, 'investor_country_code', 'TEXT', 0, None, 0),\n",
       " (11, 'investor_state_code', 'TEXT', 0, None, 0),\n",
       " (12, 'investor_region', 'TEXT', 0, None, 0),\n",
       " (13, 'investor_city', 'TEXT', 0, None, 0),\n",
       " (14, 'funding_round_type', 'TEXT', 0, None, 0),\n",
       " (15, 'funded_at', 'TEXT', 0, None, 0),\n",
       " (16, 'funded_month', 'TEXT', 0, None, 0),\n",
       " (17, 'funded_quarter', 'TEXT', 0, None, 0),\n",
       " (18, 'funded_year', 'INTEGER', 0, None, 0),\n",
       " (19, 'raised_amount_usd', 'REAL', 0, None, 0)]"
      ]
     },
     "execution_count": 42,
     "metadata": {},
     "output_type": "execute_result"
    }
   ],
   "source": [
    "conn = sqlite3.connect(\"crunchbase.db\")\n",
    "query = \"PRAGMA table_info(investments);\"\n",
    "cur = conn.cursor()\n",
    "cur.execute(query).fetchall()"
   ]
  },
  {
   "cell_type": "markdown",
   "metadata": {},
   "source": [
    "## Data Exploration and Analysis"
   ]
  },
  {
   "cell_type": "markdown",
   "metadata": {},
   "source": [
    "Which category of company attracted the most investments?"
   ]
  },
  {
   "cell_type": "code",
   "execution_count": 46,
   "metadata": {},
   "outputs": [
    {
     "data": {
      "text/plain": [
       "[('biotech', 110396423062.0),\n",
       " ('software', 73084516724.0),\n",
       " ('mobile', 64777379752.0),\n",
       " ('cleantech', 52705225028.0),\n",
       " ('enterprise', 45860927273.0)]"
      ]
     },
     "execution_count": 46,
     "metadata": {},
     "output_type": "execute_result"
    }
   ],
   "source": [
    "query = \"SELECT company_category_code, SUM(raised_amount_usd) FROM investments GROUP BY company_category_code ORDER BY SUM(raised_amount_usd) DESC LIMIT 5\"\n",
    "cur = conn.cursor()\n",
    "cur.execute(query).fetchall()"
   ]
  },
  {
   "cell_type": "markdown",
   "metadata": {},
   "source": [
    "Which investor contributed the most money (accross all startups)? "
   ]
  },
  {
   "cell_type": "code",
   "execution_count": 47,
   "metadata": {},
   "outputs": [
    {
     "data": {
      "text/plain": [
       "[('Kleiner Perkins Caufield & Byers', 11217826376.0),\n",
       " ('New Enterprise Associates', 9692542344.0),\n",
       " ('Accel Partners', 6472126199.0),\n",
       " ('Goldman Sachs', 6375459000.0),\n",
       " ('Sequoia Capital', 6039402410.0)]"
      ]
     },
     "execution_count": 47,
     "metadata": {},
     "output_type": "execute_result"
    }
   ],
   "source": [
    "query = \"SELECT investor_name, SUM(raised_amount_usd) FROM investments GROUP BY investor_name ORDER BY SUM(raised_amount_usd) DESC LIMIT 5\"\n",
    "cur = conn.cursor()\n",
    "cur.execute(query).fetchall()"
   ]
  },
  {
   "cell_type": "markdown",
   "metadata": {},
   "source": [
    "Which funding round was the most popular? "
   ]
  },
  {
   "cell_type": "code",
   "execution_count": 50,
   "metadata": {},
   "outputs": [
    {
     "data": {
      "text/plain": [
       "[('series-c+', 265753464207.0),\n",
       " ('venture', 130556496419.0),\n",
       " ('series-b', 128326776084.0),\n",
       " ('series-a', 86542150833.0),\n",
       " ('post-ipo', 30917600000.0)]"
      ]
     },
     "execution_count": 50,
     "metadata": {},
     "output_type": "execute_result"
    }
   ],
   "source": [
    "query = \"SELECT funding_round_type, SUM(raised_amount_usd) FROM investments GROUP BY funding_round_type ORDER BY SUM(raised_amount_usd) DESC LIMIT 5\"\n",
    "cur = conn.cursor()\n",
    "cur.execute(query).fetchall()"
   ]
  },
  {
   "cell_type": "markdown",
   "metadata": {},
   "source": [
    "Which funding round was the least popular?"
   ]
  },
  {
   "cell_type": "code",
   "execution_count": 51,
   "metadata": {},
   "outputs": [
    {
     "data": {
      "text/plain": [
       "[(None, None),\n",
       " ('crowdfunding', 6491500.0),\n",
       " ('angel', 4962075061.0),\n",
       " ('private-equity', 16159875901.0),\n",
       " ('other', 18507257968.0)]"
      ]
     },
     "execution_count": 51,
     "metadata": {},
     "output_type": "execute_result"
    }
   ],
   "source": [
    "query = \"SELECT funding_round_type, SUM(raised_amount_usd) FROM investments GROUP BY funding_round_type ORDER BY SUM(raised_amount_usd) ASC LIMIT 5\"\n",
    "cur = conn.cursor()\n",
    "cur.execute(query).fetchall()"
   ]
  },
  {
   "cell_type": "code",
   "execution_count": null,
   "metadata": {
    "collapsed": true
   },
   "outputs": [],
   "source": []
  }
 ],
 "metadata": {
  "anaconda-cloud": {},
  "kernelspec": {
   "display_name": "Python 2",
   "language": "python",
   "name": "python2"
  },
  "language_info": {
   "codemirror_mode": {
    "name": "ipython",
    "version": 2
   },
   "file_extension": ".py",
   "mimetype": "text/x-python",
   "name": "python",
   "nbconvert_exporter": "python",
   "pygments_lexer": "ipython2",
   "version": "2.7.14"
  }
 },
 "nbformat": 4,
 "nbformat_minor": 2
}
