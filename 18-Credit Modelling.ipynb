{
 "cells": [
  {
   "cell_type": "markdown",
   "metadata": {},
   "source": [
    "<h1>\n",
    "<center>\n",
    "Dataquest Guided Project 18:\n",
    "Credit Modelling\n",
    "</center>\n",
    "</h1>"
   ]
  },
  {
   "cell_type": "markdown",
   "metadata": {},
   "source": [
    "# Introduction"
   ]
  },
  {
   "cell_type": "markdown",
   "metadata": {},
   "source": [
    "This is part of the Dataquest program.\n",
    "\n",
    "- part of paths **Data Scientist in Python**\n",
    "    - Step 6: **Machine Learning**\n",
    "        - Course 7 :  **Machine Learning Walkthrough**\n",
    "            \n",
    "As this is a guided project, we are following and deepening the steps suggested by Dataquest. In this project, we will walk through the full data science life cycle, from data cleaning and feature selection to machine learning."
   ]
  },
  {
   "cell_type": "markdown",
   "metadata": {},
   "source": [
    "# Use case : Credit Modelling : Lending Club"
   ]
  },
  {
   "cell_type": "markdown",
   "metadata": {},
   "source": [
    "## How Lending Club works"
   ]
  },
  {
   "cell_type": "markdown",
   "metadata": {},
   "source": [
    "We will focus on credit modeling, a well-known data science problem that focuses on modeling a borrower's credit risk.\n",
    "We'll be working with financial lending data from [Lending Club]( https://www.lendingclub.com/). Lending Club is a marketplace for personal loans that matches borrowers who are seeking a loan with investors looking to lend money and make a return. \n",
    "\n",
    "Each borrower fills out a comprehensive application, providing their past financial history, the reason for the loan, and more. Lending Club evaluates each borrower's credit score using previous historical data (and their data science process!) and assigns an interest rate to the borrower. The interest rate is the percent in addition to the requested loan amount the borrower has to pay back. \n",
    "\n",
    "A higher interest rate means that the borrower is riskier and more unlikely to pay back the loan while a lower interest rate states that the borrower has a good credit history is more likely to pay back the loan. The interest rates range from 5.32% all the way to 30.99%, and each borrower is given a grade according to the interest rate they were assigned. If the borrower accepts the interest rate, then the loan is listed on the Lending Club marketplace.\n",
    "\n",
    "Investors are primarily interested in receiving a return on their investments. Approved loans are listed on the Lending Club website, where qualified investors can browse recently approved loans, the borrower's credit score, the purpose for the loan, and other information from the application. Once they're ready to back a loan, they select the amount of money they want to fund. Once a loan's requested amount is fully funded, the borrower receives the money they asked for minus the origination fee that Lending Club charges.\n",
    "\n",
    "The borrower then makes monthly payments back to Lending Club either over 36 months or over 60 months. Lending Club redistributes these payments to the investors. This means that investors don't have to wait until the full amount is paid off to start to see the money back. If a loan is fully paid off on time, the investors make a return which corresponds to the interest rate the borrower had to pay in addition to the requested amount. Many loans aren't entirely paid off on time, however, and some borrowers default on the loan.\n",
    "\n",
    "Here's a diagram from [Bible Money Matters](http://www.biblemoneymatters.com/introduction-to-peer-to-peer-lending-signing-up-to-use-lending-club/) that sums up the process:\n",
    "\n",
    "![Howitworks](http://cdn.biblemoneymatters.com/wp-content/uploads/2009/08/how-social-lending-works.jpg)\n",
    "\n",
    "While Lending Club has to be very savvy and rigorous with their credit modeling, investors on Lending Club need to be equally as savvy about determining which loans are more likely to be paid off. If investors believe the borrower can pay back the loan, even if he or she has a weak financial history, then investors can make more money through the larger additional amount the borrower has to pay.\n",
    "\n",
    "Most investors use a portfolio strategy to invest small amounts in many loans, with healthy mixes of low, medium, and interest loans. In this course, we'll focus on the mindset of a conservative investor who only wants to invest in the loans that have a good chance of being paid off on time. To do that, we'll need first to understand the features in the dataset and then experiment with building machine learning models that reliably predict if a loan will be paid off or not."
   ]
  },
  {
   "cell_type": "markdown",
   "metadata": {},
   "source": [
    "## Introduction to the data"
   ]
  },
  {
   "cell_type": "markdown",
   "metadata": {},
   "source": [
    "Lending Club releases data for all of the approved and declined loan applications periodically on [their website](https://www.lendingclub.com/info/download-data.action). We can select a few different years ranges to download the datasets (in CSV format) for both approved and declined loans.\n",
    "\n",
    "We can also find a data dictionary (in XLS format) which contains information on the different column names towards the bottom of the page hosted on [Google Drive](https://docs.google.com/spreadsheets/d/191B2yJ4H1ZPXq0_ByhUgWMFZOYem5jFz0Y3by_7YBY4/edit).\n",
    "\n",
    "The **LoanStats** sheet describes the approved loans datasets and the **RejectStats** describes the rejected loans datasets. Since rejected applications don't appear on the Lending Club marketplace and aren't available for investment, we'll be focusing on data on approved loans only.\n",
    "\n",
    "The approved loans datasets contain information on current loans, completed loans, and defaulted loans. Let's now define the problem statement for this machine learning project:\n",
    "\n",
    "**Can we build a machine learning model that can accurately predict if a borrower will pay off their loan on time or not?**\n",
    "\n",
    "Before we can start doing machine learning, we need to define what features we want to use and which column represents the target column we want to predict. Let's start by reading in the dataset and exploring it.\n",
    "\n",
    "In this mission, we'll focus on approved loans data from 2007 to 2011, since a good number of the loans have already finished. In the datasets for later years, many of the loans are current and still being paid off."
   ]
  },
  {
   "cell_type": "markdown",
   "metadata": {},
   "source": [
    "# Data Cleaning"
   ]
  },
  {
   "cell_type": "code",
   "execution_count": 1,
   "metadata": {},
   "outputs": [],
   "source": [
    "import pandas as pd\n",
    "from __future__ import division "
   ]
  },
  {
   "cell_type": "markdown",
   "metadata": {},
   "source": [
    "## Reducing the number of columns"
   ]
  },
  {
   "cell_type": "code",
   "execution_count": 2,
   "metadata": {},
   "outputs": [
    {
     "name": "stdout",
     "output_type": "stream",
     "text": [
      "id                                1077501\n",
      "member_id                      1.2966e+06\n",
      "loan_amnt                            5000\n",
      "funded_amnt                          5000\n",
      "funded_amnt_inv                      4975\n",
      "term                            36 months\n",
      "int_rate                           10.65%\n",
      "installment                        162.87\n",
      "grade                                   B\n",
      "sub_grade                              B2\n",
      "emp_title                             NaN\n",
      "emp_length                      10+ years\n",
      "home_ownership                       RENT\n",
      "annual_inc                          24000\n",
      "verification_status              Verified\n",
      "issue_d                          Dec-2011\n",
      "loan_status                    Fully Paid\n",
      "pymnt_plan                              n\n",
      "purpose                       credit_card\n",
      "title                            Computer\n",
      "zip_code                            860xx\n",
      "addr_state                             AZ\n",
      "dti                                 27.65\n",
      "delinq_2yrs                             0\n",
      "earliest_cr_line                 Jan-1985\n",
      "inq_last_6mths                          1\n",
      "open_acc                                3\n",
      "pub_rec                                 0\n",
      "revol_bal                           13648\n",
      "revol_util                          83.7%\n",
      "total_acc                               9\n",
      "initial_list_status                     f\n",
      "out_prncp                               0\n",
      "out_prncp_inv                           0\n",
      "total_pymnt                       5863.16\n",
      "total_pymnt_inv                   5833.84\n",
      "total_rec_prncp                      5000\n",
      "total_rec_int                      863.16\n",
      "total_rec_late_fee                      0\n",
      "recoveries                              0\n",
      "collection_recovery_fee                 0\n",
      "last_pymnt_d                     Jan-2015\n",
      "last_pymnt_amnt                    171.62\n",
      "last_credit_pull_d               Jun-2016\n",
      "collections_12_mths_ex_med              0\n",
      "policy_code                             1\n",
      "application_type               INDIVIDUAL\n",
      "acc_now_delinq                          0\n",
      "chargeoff_within_12_mths                0\n",
      "delinq_amnt                             0\n",
      "pub_rec_bankruptcies                    0\n",
      "tax_liens                               0\n",
      "Name: 0, dtype: object\n",
      "52\n"
     ]
    },
    {
     "name": "stderr",
     "output_type": "stream",
     "text": [
      "/Users/work/anaconda2/lib/python2.7/site-packages/IPython/core/interactiveshell.py:2718: DtypeWarning: Columns (0) have mixed types. Specify dtype option on import or set low_memory=False.\n",
      "  interactivity=interactivity, compiler=compiler, result=result)\n"
     ]
    }
   ],
   "source": [
    "loans_2007 = pd.read_csv(\"loans_2007.csv\")\n",
    "loans_2007.drop_duplicates()\n",
    "print(loans_2007.iloc[0])\n",
    "print(loans_2007.shape[1])"
   ]
  },
  {
   "cell_type": "markdown",
   "metadata": {},
   "source": [
    "We want to pay attention to any features that:\n",
    "\n",
    "- leak information from the future (after the loan has already been funded)\n",
    "- don't affect a borrower's ability to pay back a loan (e.g. a randomly generated ID value by Lending Club)\n",
    "- formatted poorly and need to be cleaned up\n",
    "- require more data or a lot of processing to turn into a useful feature\n",
    "- contain redundant information\n",
    "\n",
    "We need to especially pay attention to data leakage, since it can cause our model to overfit. This is because the model would be using data about the target column that wouldn't be available when we're using the model on future loans. \n",
    "\n",
    "After analyzing each column in the [data dictionary](https://docs.google.com/spreadsheets/d/191B2yJ4H1ZPXq0_ByhUgWMFZOYem5jFz0Y3by_7YBY4/edit), we can conclude that the following features need to be removed:\n",
    "\n",
    "- **id**: randomly generated field by Lending Club for unique identification purposes only\n",
    "- **member_id** : also a randomly generated field by Lending Club for unique identification purposes only\n",
    "- **funded_amnt**: leaks data from the future (after the loan is already started to be funded)\n",
    "- **funded_amnt_inv**: also leaks data from the future (after the loan is already started to be funded)\n",
    "- **grade**: contains redundant information as the interest rate column (int_rate)\n",
    "- **sub_grade**: also contains redundant information as the interest rate column (int_rate)\n",
    "- **emp_title**: requires other data and a lot of processing to potentially be useful\n",
    "- **issue_d**: leaks data from the future (after the loan is already completed funded)\n",
    "- **zip_code**: redundant with the addr_state column since only the first 3 digits of the 5 digit zip code are visible (which only can be used to identify the state the borrower lives in)\n",
    "- **out_prncp**: leaks data from the future, (after the loan already started to be paid off)\n",
    "- **out_prncp_inv**: also leaks data from the future, (after the loan already started to be paid off)\n",
    "- **total_pymnt**: also leaks data from the future, (after the loan already started to be paid off)\n",
    "- **total_pymnt_inv**: also leaks data from the future, (after the loan already started to be paid off)\n",
    "- **total_rec_prncp**: also leaks data from the future, (after the loan already started to be paid off)\n",
    "- **total_rec_int**: leaks data from the future, (after the loan already started to be paid off),\n",
    "- **total_rec_late_fee**: also leaks data from the future, (after the loan already started to be paid off),\n",
    "- **recoveries**: also leaks data from the future, (after the loan already started to be paid off),\n",
    "- **collection_recovery_fee**: also leaks data from the future, (after the loan already started to be paid off),\n",
    "- **last_pymnt_d**: also leaks data from the future, (after the loan already started to be paid off),\n",
    "- **last_pymnt_amnt**: also leaks data from the future, (after the loan already started to be paid off)."
   ]
  },
  {
   "cell_type": "code",
   "execution_count": 3,
   "metadata": {},
   "outputs": [
    {
     "name": "stdout",
     "output_type": "stream",
     "text": [
      "loan_amnt                            5000\n",
      "term                            36 months\n",
      "int_rate                           10.65%\n",
      "installment                        162.87\n",
      "emp_length                      10+ years\n",
      "home_ownership                       RENT\n",
      "annual_inc                          24000\n",
      "verification_status              Verified\n",
      "loan_status                    Fully Paid\n",
      "pymnt_plan                              n\n",
      "purpose                       credit_card\n",
      "title                            Computer\n",
      "addr_state                             AZ\n",
      "dti                                 27.65\n",
      "delinq_2yrs                             0\n",
      "earliest_cr_line                 Jan-1985\n",
      "inq_last_6mths                          1\n",
      "open_acc                                3\n",
      "pub_rec                                 0\n",
      "revol_bal                           13648\n",
      "revol_util                          83.7%\n",
      "total_acc                               9\n",
      "initial_list_status                     f\n",
      "last_credit_pull_d               Jun-2016\n",
      "collections_12_mths_ex_med              0\n",
      "policy_code                             1\n",
      "application_type               INDIVIDUAL\n",
      "acc_now_delinq                          0\n",
      "chargeoff_within_12_mths                0\n",
      "delinq_amnt                             0\n",
      "pub_rec_bankruptcies                    0\n",
      "tax_liens                               0\n",
      "Name: 0, dtype: object\n",
      "32\n"
     ]
    }
   ],
   "source": [
    "cols_to_drop = [\"id\", \"member_id\", \"funded_amnt\", \"funded_amnt_inv\", \"grade\", \"sub_grade\", \"emp_title\", \"issue_d\",\n",
    "                \"zip_code\", \"out_prncp\", \"out_prncp_inv\", \"total_pymnt\", \"total_pymnt_inv\", \"total_rec_prncp\",\n",
    "                \"total_rec_int\", \"total_rec_late_fee\", \"recoveries\", \"collection_recovery_fee\", \"last_pymnt_d\", \n",
    "                \"last_pymnt_amnt\"]\n",
    "loans_2007 = loans_2007.drop(cols_to_drop, axis=1)\n",
    "print(loans_2007.iloc[0])\n",
    "print(loans_2007.shape[1])"
   ]
  },
  {
   "cell_type": "markdown",
   "metadata": {},
   "source": [
    "Just by becoming familiar with the columns in the dataset, we were able to reduce the number of columns from 52 to 32 columns. We now need to decide on a target column that we want to use for modeling."
   ]
  },
  {
   "cell_type": "markdown",
   "metadata": {},
   "source": [
    "## Preparing the target column"
   ]
  },
  {
   "cell_type": "markdown",
   "metadata": {},
   "source": [
    "We should use the loan_status column, since it's the only column that directly describes if a loan was paid off on time, had delayed payments, or was defaulted on the borrower. Currently, this column contains text values and we need to convert it to a numerical one for training a model. Let's explore the different values in this column and come up with a strategy for converting the values in this column."
   ]
  },
  {
   "cell_type": "code",
   "execution_count": 4,
   "metadata": {},
   "outputs": [
    {
     "name": "stdout",
     "output_type": "stream",
     "text": [
      "Fully Paid                                             33136\n",
      "Charged Off                                             5634\n",
      "Does not meet the credit policy. Status:Fully Paid      1988\n",
      "Current                                                  961\n",
      "Does not meet the credit policy. Status:Charged Off      761\n",
      "Late (31-120 days)                                        24\n",
      "In Grace Period                                           20\n",
      "Late (16-30 days)                                          8\n",
      "Default                                                    3\n",
      "Name: loan_status, dtype: int64\n"
     ]
    }
   ],
   "source": [
    "print(loans_2007['loan_status'].value_counts())"
   ]
  },
  {
   "cell_type": "markdown",
   "metadata": {},
   "source": [
    "There are 8 different possible values for the loan_status column: \n",
    "\n",
    "|**Loan Status**|**Count**|**Meaning**|\n",
    "|---------------|---------|-----------|\n",
    "|Fully Paid|33136|Loan has been fully paid off|\n",
    "|Charged Off|5634|Loan for which there is no longer a reasonable expectation of further payments|\n",
    "|Does not meet the credit policy. Status:Fully Paid|1988|While the loan was paid off, the loan application today would no longer meet the credit policy and wouldn't be approved on to the marketplace|\n",
    "|Does not meet the credit policy. Status:Charged Off|761|While the loan was charged off, the loan application today would no longer meet the credit policy and wouldn't be approved on to the marketplace|\n",
    "|In Grace Period|20|The loan is past due but still in the grace period of 15 days|\n",
    "|Late (16-30 days)|8|Loan hasn't been paid in 16 to 30 days (late on the current payment)|\n",
    "|Late (31-120 days)|24|Loan hasn't been paid in 31 to 120 days (late on the current payment)|\n",
    "|Current|961|Loan is up to date on current payments|\n",
    "|Default|3|Loan is defaulted on and no payment has been made for more than 121 days|\n",
    "\n",
    "From the investor's perspective, we're interested in trying to predict which loans will be paid off on time and which ones won't be. Only the Fully Paid and Charged Off values describe the final outcome of the loan. The other values describe loans that are still on going and where the jury is still out on if the borrower will pay back the loan on time or not. While the Default status resembles the Charged Off status, in Lending Club's eyes, loans that are charged off have essentially no chance of being repaid while default ones have a small chance. \n",
    "\n",
    "Since we're interested in being able to predict which of these 2 values a loan will fall under, we can treat the problem as a binary classification one. Let's remove all the loans that don't contain either Fully Paid and Charged Off as the loan's status and then transform the Fully Paid values to 1 for the positive case and the Charged Off values to 0 for the negative case.\n",
    "\n",
    "Lastly, one thing we need to keep in mind is the class imbalance between the positive and negative cases. While there are 33,136 loans that have been fully paid off, there are only 5,634 that were charged off. This class imbalance is a common problem in binary classification and during training, the model ends up having a strong bias towards predicting the class with more observations in the training set and will rarely predict the class with less observations. The stronger the imbalance, the more biased the model becomes. There are a few different ways to tackle this class imbalance, which we'll explore later"
   ]
  },
  {
   "cell_type": "code",
   "execution_count": 5,
   "metadata": {},
   "outputs": [],
   "source": [
    "loans_2007 = loans_2007[(loans_2007['loan_status'] == \"Fully Paid\") | (loans_2007['loan_status'] == \"Charged Off\")]\n",
    "\n",
    "status_replace = {\n",
    "    \"loan_status\" : {\n",
    "        \"Fully Paid\": 1,\n",
    "        \"Charged Off\": 0,\n",
    "    }\n",
    "}\n",
    "\n",
    "loans_2007 = loans_2007.replace(status_replace)"
   ]
  },
  {
   "cell_type": "markdown",
   "metadata": {},
   "source": [
    "### Removing Single value columns"
   ]
  },
  {
   "cell_type": "markdown",
   "metadata": {},
   "source": [
    "Let's look for any columns that contain only one unique value and remove them. These columns won't be useful for the model since they don't add any information to each loan application."
   ]
  },
  {
   "cell_type": "code",
   "execution_count": 6,
   "metadata": {},
   "outputs": [
    {
     "name": "stdout",
     "output_type": "stream",
     "text": [
      "['pymnt_plan', 'initial_list_status', 'collections_12_mths_ex_med', 'policy_code', 'application_type', 'acc_now_delinq', 'chargeoff_within_12_mths', 'delinq_amnt', 'tax_liens']\n"
     ]
    }
   ],
   "source": [
    "columns = loans_2007.columns\n",
    "\n",
    "cols_to_drop = []\n",
    "for col in columns:\n",
    "    unique_values = loans_2007[col].dropna().unique()\n",
    "    if len(unique_values) == 1:\n",
    "        cols_to_drop.append(col)\n",
    "        \n",
    "loans_2007 = loans_2007.drop(cols_to_drop, axis=1)\n",
    "print(cols_to_drop)"
   ]
  },
  {
   "cell_type": "markdown",
   "metadata": {},
   "source": [
    "It looks we we were able to remove 9 more columns since they only contained 1 unique value."
   ]
  },
  {
   "cell_type": "markdown",
   "metadata": {},
   "source": [
    "# Preparing the features"
   ]
  },
  {
   "cell_type": "markdown",
   "metadata": {},
   "source": [
    "We'll now prepare the data for machine learning by focusing on handling missing values, converting categorical columns to numeric columns, and removing any other extraneous columns; we encounter throughout this process.\n",
    "\n",
    "This is because the mathematics underlying most machine learning models assumes that the data is numerical and contains no missing values. To reinforce this requirement, scikit-learn will return an error if you try to train a model using data that include missing values or non-numeric values when working with models like linear regression and logistic regression."
   ]
  },
  {
   "cell_type": "markdown",
   "metadata": {},
   "source": [
    "## Handling Missing Values"
   ]
  },
  {
   "cell_type": "markdown",
   "metadata": {},
   "source": [
    "Let's start by computing the number of missing values and come up with a strategy for handling them. Then, we'll focus on the categorical columns."
   ]
  },
  {
   "cell_type": "code",
   "execution_count": 7,
   "metadata": {},
   "outputs": [
    {
     "name": "stdout",
     "output_type": "stream",
     "text": [
      "loan_amnt                  0\n",
      "term                       0\n",
      "int_rate                   0\n",
      "installment                0\n",
      "emp_length              1036\n",
      "home_ownership             0\n",
      "annual_inc                 0\n",
      "verification_status        0\n",
      "loan_status                0\n",
      "purpose                    0\n",
      "title                     11\n",
      "addr_state                 0\n",
      "dti                        0\n",
      "delinq_2yrs                0\n",
      "earliest_cr_line           0\n",
      "inq_last_6mths             0\n",
      "open_acc                   0\n",
      "pub_rec                    0\n",
      "revol_bal                  0\n",
      "revol_util                50\n",
      "total_acc                  0\n",
      "last_credit_pull_d         2\n",
      "pub_rec_bankruptcies     697\n",
      "dtype: int64\n"
     ]
    }
   ],
   "source": [
    "null_counts = loans_2007.isnull().sum()\n",
    "print(null_counts)"
   ]
  },
  {
   "cell_type": "markdown",
   "metadata": {},
   "source": [
    "While most of the columns have 0 missing values, 2 columns have 50 or less rows with missing values, and 1 column, pub_rec_bankruptcies, contains 697 rows with missing values. Let's remove columns entirely where more than 1% of the rows for that column contain a null value. In addition, we'll remove the remaining rows containing null values.\n",
    "\n",
    "This means that we'll keep the following columns and just remove rows containing missing values for them:\n",
    "\n",
    "- title\n",
    "- revol_util\n",
    "- last_credit_pull_d\n",
    "\n",
    "and drop the pub_rec_bankruptcies column entirely since more than 1% of the rows have a missing value for this column.\n",
    "\n",
    "\n"
   ]
  },
  {
   "cell_type": "code",
   "execution_count": 8,
   "metadata": {},
   "outputs": [
    {
     "name": "stdout",
     "output_type": "stream",
     "text": [
      "object     11\n",
      "float64    10\n",
      "int64       1\n",
      "dtype: int64\n"
     ]
    }
   ],
   "source": [
    "loans_2007 = loans_2007.drop(\"pub_rec_bankruptcies\", axis=1)\n",
    "loans_2007 = loans_2007.dropna(axis=0)\n",
    "print(loans_2007.dtypes.value_counts())"
   ]
  },
  {
   "cell_type": "markdown",
   "metadata": {},
   "source": [
    "## Text columns"
   ]
  },
  {
   "cell_type": "markdown",
   "metadata": {},
   "source": [
    "While the numerical columns can be used natively with scikit-learn, the object columns that contain text need to be converted to numerical data types. Let's return a new Dataframe containing just the object columns so we can explore them in more depth. "
   ]
  },
  {
   "cell_type": "code",
   "execution_count": 9,
   "metadata": {},
   "outputs": [
    {
     "name": "stdout",
     "output_type": "stream",
     "text": [
      "term                     36 months\n",
      "int_rate                    10.65%\n",
      "emp_length               10+ years\n",
      "home_ownership                RENT\n",
      "verification_status       Verified\n",
      "purpose                credit_card\n",
      "title                     Computer\n",
      "addr_state                      AZ\n",
      "earliest_cr_line          Jan-1985\n",
      "revol_util                   83.7%\n",
      "last_credit_pull_d        Jun-2016\n",
      "Name: 0, dtype: object\n"
     ]
    }
   ],
   "source": [
    "object_columns_df = loans_2007.select_dtypes(include=[\"object\"])\n",
    "print(object_columns_df.iloc[0])"
   ]
  },
  {
   "cell_type": "markdown",
   "metadata": {},
   "source": [
    "Some of the columns seem like they represent categorical values, but we should confirm by checking the number of unique values in those columns:\n",
    "\n",
    "- **home_ownership** : home ownership status, can only be 1 of 4 categorical values according to the data dictionary,\n",
    "- **verification_status**: indicates if income was verified by Lending Club,\n",
    "- **emp_length**: number of years the borrower was employed upon time of application,\n",
    "- **term**: number of payments on the loan, either 36 or 60,\n",
    "- **addr_state**: borrower's state of residence,\n",
    "- **purpose**: a category provided by the borrower for the loan request,\n",
    "- **title**: loan title provided the borrower,\n",
    "\n",
    "There are also some columns that represent numeric values, that need to be converted:\n",
    "\n",
    "- **int_rate**: interest rate of the loan in %,\n",
    "- **revol_util**: revolving line utilization rate or the amount of credit the borrower is using relative to all available credit, read more here.\n",
    "\n",
    "Based on the first row's values for purpose and title, it seems like these columns could reflect the same information. Let's explore the unique value counts separately to confirm if this is true.\n",
    "\n",
    "Lastly, some of the columns contain date values that would require a good amount of feature engineering for them to be potentially useful:\n",
    "\n",
    "- **earliest_cr_line**: The month the borrower's earliest reported credit line was opened,\n",
    "- **last_credit_pull_d**: The most recent month Lending Club pulled credit for this loan.\n",
    "\n",
    "Since these date features require some feature engineering for modeling purposes, let's remove these date columns from the Dataframe."
   ]
  },
  {
   "cell_type": "code",
   "execution_count": 10,
   "metadata": {},
   "outputs": [
    {
     "name": "stdout",
     "output_type": "stream",
     "text": [
      "*****home_ownership*******\n",
      "RENT        18112\n",
      "MORTGAGE    16686\n",
      "OWN          2778\n",
      "OTHER          96\n",
      "NONE            3\n",
      "Name: home_ownership, dtype: int64\n",
      "*****verification_status*******\n",
      "Not Verified       16281\n",
      "Verified           11856\n",
      "Source Verified     9538\n",
      "Name: verification_status, dtype: int64\n",
      "*****emp_length*******\n",
      "10+ years    8545\n",
      "< 1 year     4513\n",
      "2 years      4303\n",
      "3 years      4022\n",
      "4 years      3353\n",
      "5 years      3202\n",
      "1 year       3176\n",
      "6 years      2177\n",
      "7 years      1714\n",
      "8 years      1442\n",
      "9 years      1228\n",
      "Name: emp_length, dtype: int64\n",
      "*****term*******\n",
      " 36 months    28234\n",
      " 60 months     9441\n",
      "Name: term, dtype: int64\n",
      "*****addr_state*******\n",
      "CA    6776\n",
      "NY    3614\n",
      "FL    2704\n",
      "TX    2613\n",
      "NJ    1776\n",
      "IL    1447\n",
      "PA    1442\n",
      "VA    1347\n",
      "GA    1323\n",
      "MA    1272\n",
      "OH    1149\n",
      "MD    1008\n",
      "AZ     807\n",
      "WA     788\n",
      "CO     748\n",
      "NC     729\n",
      "CT     711\n",
      "MI     678\n",
      "MO     648\n",
      "MN     581\n",
      "NV     466\n",
      "SC     454\n",
      "WI     427\n",
      "OR     422\n",
      "LA     420\n",
      "AL     420\n",
      "KY     311\n",
      "OK     285\n",
      "KS     249\n",
      "UT     249\n",
      "AR     229\n",
      "DC     209\n",
      "RI     194\n",
      "NM     180\n",
      "WV     164\n",
      "HI     162\n",
      "NH     157\n",
      "DE     110\n",
      "MT      77\n",
      "WY      76\n",
      "AK      76\n",
      "SD      60\n",
      "VT      53\n",
      "MS      19\n",
      "TN      17\n",
      "IN       9\n",
      "ID       6\n",
      "IA       5\n",
      "NE       5\n",
      "ME       3\n",
      "Name: addr_state, dtype: int64\n"
     ]
    }
   ],
   "source": [
    "cols = ['home_ownership', 'verification_status', 'emp_length', 'term', 'addr_state']\n",
    "for c in cols:\n",
    "    print('*****' + c + '*******')\n",
    "    print(loans_2007[c].value_counts())"
   ]
  },
  {
   "cell_type": "markdown",
   "metadata": {},
   "source": [
    "The home_ownership, verification_status, emp_length, term, and addr_state columns all contain multiple discrete values. We should clean the emp_length column and treat it as a numerical one since the values have ordering (2 years of employment is less than 8 years).\n",
    "\n",
    "First, let's look at the unique value counts for the purpose and title columns to understand which column we want to keep."
   ]
  },
  {
   "cell_type": "code",
   "execution_count": 11,
   "metadata": {},
   "outputs": [
    {
     "name": "stdout",
     "output_type": "stream",
     "text": [
      "debt_consolidation    17751\n",
      "credit_card            4911\n",
      "other                  3711\n",
      "home_improvement       2808\n",
      "major_purchase         2083\n",
      "small_business         1719\n",
      "car                    1459\n",
      "wedding                 916\n",
      "medical                 655\n",
      "moving                  552\n",
      "house                   356\n",
      "vacation                348\n",
      "educational             312\n",
      "renewable_energy         94\n",
      "Name: purpose, dtype: int64\n",
      "Debt Consolidation                          2068\n",
      "Debt Consolidation Loan                     1599\n",
      "Personal Loan                                624\n",
      "Consolidation                                488\n",
      "debt consolidation                           466\n",
      "Credit Card Consolidation                    345\n",
      "Home Improvement                             336\n",
      "Debt consolidation                           314\n",
      "Small Business Loan                          298\n",
      "Credit Card Loan                             294\n",
      "Personal                                     290\n",
      "Consolidation Loan                           250\n",
      "Home Improvement Loan                        228\n",
      "personal loan                                219\n",
      "Loan                                         202\n",
      "Wedding Loan                                 199\n",
      "personal                                     198\n",
      "Car Loan                                     188\n",
      "consolidation                                186\n",
      "Other Loan                                   168\n",
      "Wedding                                      148\n",
      "Credit Card Payoff                           144\n",
      "Credit Card Refinance                        140\n",
      "Major Purchase Loan                          131\n",
      "Consolidate                                  124\n",
      "Medical                                      111\n",
      "Credit Card                                  110\n",
      "home improvement                             101\n",
      "Credit Cards                                  91\n",
      "My Loan                                       90\n",
      "                                            ... \n",
      "Bathroom Completion                            1\n",
      "Help Me Fix My Bathroom                        1\n",
      "Car repairs (rear differential)                1\n",
      "Rebuilding Credit, Paying off the Cards!       1\n",
      "MY EDUCATIONAL FUTURE IS COUNTING ON IT!       1\n",
      "Martins                                        1\n",
      "Excellent credit debt consolidation loan       1\n",
      "AMEX & Discover                                1\n",
      "GreaFunding1                                   1\n",
      "new office (attorney)                          1\n",
      "equipment for pub                              1\n",
      "Taking care of Business                        1\n",
      "House payoff                                   1\n",
      "Debt Crusher                                   1\n",
      "Baby on the way!                               1\n",
      "Payoff ING PLOC                                1\n",
      "Paying off the debt                            1\n",
      "To pay off balloon payments due                1\n",
      "SOLAR PV                                       1\n",
      "Go for Broke                                   1\n",
      "Credit Card Consolidation Loan - SEG           1\n",
      " Freedom                                       1\n",
      "DebtConsolidationn                             1\n",
      "Outstanding Credit                             1\n",
      "Credit card rate way up.  Please help!         1\n",
      "Pay on Credit card                             1\n",
      "Startup Money for Small Business               1\n",
      "working hard to get out of debt                1\n",
      "cart loan                                      1\n",
      "Consolidaton                                   1\n",
      "Name: title, Length: 18881, dtype: int64\n"
     ]
    }
   ],
   "source": [
    "print(loans_2007[\"purpose\"].value_counts())\n",
    "print(loans_2007[\"title\"].value_counts())"
   ]
  },
  {
   "cell_type": "markdown",
   "metadata": {},
   "source": [
    "### Categorical columns"
   ]
  },
  {
   "cell_type": "markdown",
   "metadata": {},
   "source": [
    "The home_ownership, verification_status, emp_length, and term columns each contain a few discrete categorical values. We should encode these columns as dummy variables and keep them.\n",
    "\n",
    "It seems like the purpose and title columns do contain overlapping information but we'll keep the purpose column since it contains a few discrete values. In addition, the title column has data quality issues since many of the values are repeated with slight modifications (e.g. Debt Consolidation and Debt Consolidation Loan and debt consolidation)."
   ]
  },
  {
   "cell_type": "markdown",
   "metadata": {},
   "source": [
    "We can use the following mapping to clean the emp_length column:\n",
    "\n",
    "- \"10+ years\": 10\n",
    "- \"9 years\": 9\n",
    "- \"8 years\": 8\n",
    "- \"7 years\": 7\n",
    "- \"6 years\": 6\n",
    "- \"5 years\": 5\n",
    "- \"4 years\": 4\n",
    "- \"3 years\": 3\n",
    "- \"2 years\": 2\n",
    "- \"1 year\": 1\n",
    "- \"< 1 year\": 0\n",
    "- \"n/a\": 0\n",
    "\n",
    "We erred on the side of being conservative with the 10+ years, < 1 year and n/a mappings. We assume that people who may have been working more than 10 years have only really worked for 10 years. We also assume that people who've worked less than a year or if the information is not available that they've worked for 0. This is a general heuristic but it's not perfect.\n",
    "\n",
    "Lastly, the addr_state column contains many discrete values and we'd need to add 49 dummy variable columns to use it for classification. This would make our Dataframe much larger and could slow down how quickly the code runs. Let's remove this column from consideration."
   ]
  },
  {
   "cell_type": "code",
   "execution_count": 12,
   "metadata": {},
   "outputs": [],
   "source": [
    "mapping = {\n",
    "    \"emp_length\":\n",
    "    {\"10+ years\": 10,\n",
    "     \"9 years\": 9,\n",
    "     \"8 years\": 8,\n",
    "     \"7 years\": 7,\n",
    "     \"6 years\": 6,\n",
    "     \"5 years\": 5,\n",
    "     \"4 years\": 4,\n",
    "     \"3 years\": 3,\n",
    "     \"2 years\": 2,\n",
    "     \"1 year\": 1,\n",
    "     \"< 1 year\": 0,\n",
    "     \"n/a\": 0}\n",
    "}\n",
    "\n",
    "\n",
    "cat_to_drop = [\"last_credit_pull_d\", \"earliest_cr_line\", \"addr_state\", \"title\"]\n",
    "\n",
    "loans_2007 = loans_2007.drop(cat_to_drop, axis=1)\n",
    "loans_2007[\"int_rate\"] = loans_2007[\"int_rate\"].str.rstrip(\"%\").astype(\"float\")\n",
    "loans_2007[\"revol_util\"] = loans_2007[\"revol_util\"].str.rstrip(\"%\").astype(\"float\")\n",
    "loans_2007 = loans_2007.replace(mapping)"
   ]
  },
  {
   "cell_type": "markdown",
   "metadata": {},
   "source": [
    "## Dummy variables"
   ]
  },
  {
   "cell_type": "markdown",
   "metadata": {},
   "source": [
    "Let's now encode the home_ownership, verification_status, purpose, and term columns as dummy variables so we can use them in our model."
   ]
  },
  {
   "cell_type": "code",
   "execution_count": 13,
   "metadata": {},
   "outputs": [],
   "source": [
    "cat_columns = [\"home_ownership\", \"verification_status\", \"purpose\", \"term\"]\n",
    "\n",
    "dummies = pd.get_dummies(loans_2007[cat_columns])\n",
    "loans_2007 = pd.concat([loans_2007, dummies], axis=1)\n",
    "loans_2007 = loans_2007.drop(cat_columns, axis=1)"
   ]
  },
  {
   "cell_type": "markdown",
   "metadata": {},
   "source": [
    "# Making Predictions "
   ]
  },
  {
   "cell_type": "markdown",
   "metadata": {},
   "source": [
    "## Picking an error metric"
   ]
  },
  {
   "cell_type": "markdown",
   "metadata": {},
   "source": [
    "An error metric will help us figure out when our model is performing well, and when it's performing poorly. To tie error metrics all the way back to the original question we wanted to answer, let's say we're using a machine learning model to predict whether or not we should fund a loan on the Lending Club platform. Our objective in this is to make money -- we want to fund enough loans that are paid off on time to offset our losses from loans that aren't paid off. An error metric will help us determine if our algorithm will make us money or lose us money.\n",
    "\n",
    "In this case, we're primarily concerned with false positives and false negatives. Both of these are different types of misclassifications. With a false positive, we predict that a loan will be paid off on time, but it isn't. This costs us money since we fund loans that lose us money. With a false negative, we predict that a loan won't be paid off on time, but it actually would be paid off on time. This loses us potential money since we didn't fund a loan that actually would have been paid off.\n",
    "\n",
    "In the loan_status and prediction columns, a 0 means that the loan wouldn't be paid off on time, and a 1 means that it would.\n",
    "\n",
    "Here's a diagram to simplify the concepts:\n",
    "\n",
    "\n",
    "|actual loan_status|prediction|error type|\n",
    "|------------------|----------|----------|\n",
    "| 0                | 1        | False Positive|\n",
    "| 1                | 1        | True Positive|\n",
    "| 0                | 0        | True Negative|\n",
    "| 1                | 0        | False Negative|\n",
    "\n",
    "\n",
    "Since we're viewing this problem from the standpoint of a conservative investor, we need to treat false positives differently than false negatives. A conservative investor would want to minimize risk, and avoid false positives as much as possible. They'd be more okay with missing out on opportunities (false negatives) than they would be with funding a risky loan (false positives).\n",
    "\n",
    "We can calculate false positive rate and true positive rate, using the numbers of true positives, true negatives, false negatives, and false positives.\n",
    "\n",
    "False positive rate is the number of false positives divided by the number of false positives plus the number of true negatives. This divides all the cases where we thought a loan would be paid off but it wasn't by all the loans that weren't paid off. \n",
    "\n",
    "![rates](rates.png)\n",
    "\n",
    "In this case, we should optimize for:\n",
    "\n",
    "- high recall (true positive rate)\n",
    "- low fall-out (false positive rate)\n",
    "\n"
   ]
  },
  {
   "cell_type": "markdown",
   "metadata": {},
   "source": [
    "## Logistic Regression"
   ]
  },
  {
   "cell_type": "markdown",
   "metadata": {},
   "source": [
    "A good first algorithm to apply to binary classification problems is logistic regression, for the following reasons:\n",
    "\n",
    "- it's quick to train and we can iterate more quickly,\n",
    "- it's less prone to overfitting than more complex models like decision trees,\n",
    "- it's easy to interpret."
   ]
  },
  {
   "cell_type": "markdown",
   "metadata": {},
   "source": [
    "### Creating the model"
   ]
  },
  {
   "cell_type": "code",
   "execution_count": 14,
   "metadata": {},
   "outputs": [],
   "source": [
    "# Let's prepare the features/target columns :\n",
    "\n",
    "cols = loans_2007.columns\n",
    "train_cols = cols.drop(\"loan_status\")\n",
    "features = loans_2007[train_cols]\n",
    "\n",
    "target = loans_2007[\"loan_status\"]"
   ]
  },
  {
   "cell_type": "code",
   "execution_count": 15,
   "metadata": {},
   "outputs": [],
   "source": [
    "from sklearn.linear_model import LogisticRegression"
   ]
  },
  {
   "cell_type": "code",
   "execution_count": 16,
   "metadata": {},
   "outputs": [
    {
     "data": {
      "text/plain": [
       "array([1, 1, 1, ..., 1, 1, 1])"
      ]
     },
     "execution_count": 16,
     "metadata": {},
     "output_type": "execute_result"
    }
   ],
   "source": [
    "lr = LogisticRegression()\n",
    "lr.fit(features, target)\n",
    "predictions = lr.predict(features)\n",
    "predictions"
   ]
  },
  {
   "cell_type": "markdown",
   "metadata": {},
   "source": [
    "### K-fold validation"
   ]
  },
  {
   "cell_type": "markdown",
   "metadata": {},
   "source": [
    "While we generated predictions in the last screen, those predictions were overfit. They were overfit because we generated predictions using the same data that we trained our model on. When we use this to evaluate error, we get an unrealistically high depiction of how accurate the algorithm is, because it already \"knows\" the correct answers.\n",
    "\n",
    "In order to get a realistic depiction of the accuracy of the model, let's perform k-fold cross validation. "
   ]
  },
  {
   "cell_type": "code",
   "execution_count": 17,
   "metadata": {},
   "outputs": [],
   "source": [
    "from sklearn.model_selection import cross_val_predict\n",
    "lr = LogisticRegression()\n",
    "\n",
    "predictions = cross_val_predict(lr, features, target)\n",
    "predictions = pd.Series(predictions)"
   ]
  },
  {
   "cell_type": "markdown",
   "metadata": {},
   "source": [
    "Let's compute the false positive rate and true positive rate : "
   ]
  },
  {
   "cell_type": "code",
   "execution_count": 18,
   "metadata": {},
   "outputs": [
    {
     "name": "stdout",
     "output_type": "stream",
     "text": [
      "0.998426848453\n",
      "0.998617966436\n"
     ]
    }
   ],
   "source": [
    "# False positives.\n",
    "fp_filter = (predictions == 1) & (loans_2007[\"loan_status\"] == 0)\n",
    "fp = len(predictions[fp_filter])\n",
    "\n",
    "# True positives.\n",
    "tp_filter = (predictions == 1) & (loans_2007[\"loan_status\"] == 1)\n",
    "tp = len(predictions[tp_filter])\n",
    "\n",
    "# False negatives.\n",
    "fn_filter = (predictions == 0) & (loans_2007[\"loan_status\"] == 1)\n",
    "fn = len(predictions[fn_filter])\n",
    "\n",
    "# True negatives\n",
    "tn_filter = (predictions == 0) & (loans_2007[\"loan_status\"] == 0)\n",
    "tn = len(predictions[tn_filter])\n",
    "\n",
    "# True positive rate \n",
    "tpr = tp / (tp + fn)\n",
    "\n",
    "# False negative rate \n",
    "fpr = fp / (fp + tn)\n",
    "\n",
    "print(tpr)\n",
    "print(fpr)"
   ]
  },
  {
   "cell_type": "markdown",
   "metadata": {},
   "source": [
    "### Penalizing the classifier"
   ]
  },
  {
   "cell_type": "markdown",
   "metadata": {},
   "source": [
    "Unfortunately, even through we're not using accuracy as an error metric, the classifier is, and it isn't accounting for the imbalance in the classes. There are a few ways to get a classifier to correct for imbalanced classes. The two main ways are:\n",
    "\n",
    "Use oversampling and undersampling to ensure that the classifier gets input that has a balanced number of each class.\n",
    "Tell the classifier to penalize misclassifications of the less prevalent class more than the other class.\n",
    "\n",
    "We'll look into oversampling and undersampling first. They involve taking a sample that contains equal numbers of rows where loan_status is 0, and where loan_status is 1. This way, the classifier is forced to make actual predictions, since predicting all 1s or all 0s will only result in 50% accuracy at most.\n",
    "\n",
    "The downside of this technique is that since it has to preserve an equal ratio, you have to either:\n",
    "\n",
    "- Throw out many rows of data. If we wanted equal numbers of rows where loan_status is 0 and where loan_status is 1, one way we could do that is to delete rows where loan_status is 1.\n",
    "- Copy rows multiple times. One way to equalize the 0s and 1s is to copy rows where loan_status is 0.\n",
    "- Generate fake data. One way to equalize the 0s and 1s is to generate new rows where loan_status is 0.\n",
    "\n",
    "Unfortunately, none of these techniques are especially easy. The second method we mentioned earlier, telling the classifier to penalize certain rows more, is actually much easier to implement using scikit-learn. By setting the class_weight parameter to balanced, the penalty is set to be inversely proportional to the class frequencies. This would mean that for the classifier, correctly classifying a row where loan_status is 0 is 6 times more important than correctly classifying a row where loan_status is 1."
   ]
  },
  {
   "cell_type": "code",
   "execution_count": 19,
   "metadata": {},
   "outputs": [
    {
     "name": "stdout",
     "output_type": "stream",
     "text": [
      "0.636307026744\n",
      "0.621915103653\n"
     ]
    }
   ],
   "source": [
    "lr = LogisticRegression(class_weight=\"balanced\")\n",
    "predictions = cross_val_predict(lr, features, target, cv=3)\n",
    "predictions = pd.Series(predictions)\n",
    "\n",
    "# False positives.\n",
    "fp_filter = (predictions == 1) & (loans_2007[\"loan_status\"] == 0)\n",
    "fp = len(predictions[fp_filter])\n",
    "\n",
    "# True positives.\n",
    "tp_filter = (predictions == 1) & (loans_2007[\"loan_status\"] == 1)\n",
    "tp = len(predictions[tp_filter])\n",
    "\n",
    "# False negatives.\n",
    "fn_filter = (predictions == 0) & (loans_2007[\"loan_status\"] == 1)\n",
    "fn = len(predictions[fn_filter])\n",
    "\n",
    "# True negatives\n",
    "tn_filter = (predictions == 0) & (loans_2007[\"loan_status\"] == 0)\n",
    "tn = len(predictions[tn_filter])\n",
    "\n",
    "# Rates\n",
    "tpr = tp / (tp + fn)\n",
    "fpr = fp / (fp + tn)\n",
    "\n",
    "print(tpr)\n",
    "print(fpr)"
   ]
  },
  {
   "cell_type": "markdown",
   "metadata": {},
   "source": [
    "We significantly improved false positive rate in the last screen by balancing the classes, which reduced true positive rate. Our true positive rate is now around 67%, and our false positive rate is around 40%. From a conservative investor's standpoint, it's reassuring that the false positive rate is lower because it means that we'll be able to do a better job at avoiding bad loans than if we funded everything. However, we'd only ever decide to fund 67% of the total loans (true positive rate), so we'd immediately reject a good amount of loans.\n",
    "\n",
    "We can try to lower the false positive rate further by assigning a harsher penalty for misclassifying the negative class. While setting class_weight to balanced will automatically set a penalty based on the number of 1s and 0s in the column, we can also set a manual penalty. "
   ]
  },
  {
   "cell_type": "code",
   "execution_count": 20,
   "metadata": {},
   "outputs": [
    {
     "name": "stdout",
     "output_type": "stream",
     "text": [
      "0.225714472994\n",
      "0.222902270484\n"
     ]
    }
   ],
   "source": [
    "manual_penalty = {\n",
    "    0:10,\n",
    "    1:1\n",
    "}\n",
    "\n",
    "lr = LogisticRegression(class_weight=manual_penalty)\n",
    "predictions = cross_val_predict(lr, features, target, cv=3)\n",
    "predictions = pd.Series(predictions)\n",
    "\n",
    "# False positives.\n",
    "fp_filter = (predictions == 1) & (loans_2007[\"loan_status\"] == 0)\n",
    "fp = len(predictions[fp_filter])\n",
    "\n",
    "# True positives.\n",
    "tp_filter = (predictions == 1) & (loans_2007[\"loan_status\"] == 1)\n",
    "tp = len(predictions[tp_filter])\n",
    "\n",
    "# False negatives.\n",
    "fn_filter = (predictions == 0) & (loans_2007[\"loan_status\"] == 1)\n",
    "fn = len(predictions[fn_filter])\n",
    "\n",
    "# True negatives\n",
    "tn_filter = (predictions == 0) & (loans_2007[\"loan_status\"] == 0)\n",
    "tn = len(predictions[tn_filter])\n",
    "\n",
    "# Rates\n",
    "tpr = tp / (tp + fn)\n",
    "fpr = fp / (fp + tn)\n",
    "\n",
    "print(tpr)\n",
    "print(fpr)"
   ]
  },
  {
   "cell_type": "markdown",
   "metadata": {},
   "source": [
    "## Random Forests"
   ]
  },
  {
   "cell_type": "markdown",
   "metadata": {},
   "source": [
    "Let's now try a more complex algorithm, random forest. Random forests are able to work with nonlinear data, and learn complex conditionals. \n",
    "Logistic regressions are only able to work with linear data. Training a random forest algorithm may enable us to get more accuracy due to columns that correlate nonlinearly with loan_status."
   ]
  },
  {
   "cell_type": "code",
   "execution_count": 21,
   "metadata": {},
   "outputs": [],
   "source": [
    "from sklearn.ensemble import RandomForestClassifier"
   ]
  },
  {
   "cell_type": "code",
   "execution_count": 22,
   "metadata": {},
   "outputs": [
    {
     "name": "stdout",
     "output_type": "stream",
     "text": [
      "0.963096486628\n",
      "0.963474827246\n"
     ]
    }
   ],
   "source": [
    "rf = RandomForestClassifier(class_weight=\"balanced\", random_state=1)\n",
    "\n",
    "predictions = cross_val_predict(rf, features, target, cv=3)\n",
    "predictions = pd.Series(predictions)\n",
    "\n",
    "# False positives.\n",
    "fp_filter = (predictions == 1) & (loans_2007[\"loan_status\"] == 0)\n",
    "fp = len(predictions[fp_filter])\n",
    "\n",
    "# True positives.\n",
    "tp_filter = (predictions == 1) & (loans_2007[\"loan_status\"] == 1)\n",
    "tp = len(predictions[tp_filter])\n",
    "\n",
    "# False negatives.\n",
    "fn_filter = (predictions == 0) & (loans_2007[\"loan_status\"] == 1)\n",
    "fn = len(predictions[fn_filter])\n",
    "\n",
    "# True negatives\n",
    "tn_filter = (predictions == 0) & (loans_2007[\"loan_status\"] == 0)\n",
    "tn = len(predictions[tn_filter])\n",
    "\n",
    "# Rates\n",
    "tpr = tp / (tp + fn)\n",
    "fpr = fp / (fp + tn)\n",
    "\n",
    "print(tpr)\n",
    "print(fpr)"
   ]
  },
  {
   "cell_type": "markdown",
   "metadata": {},
   "source": [
    "# Conclusions"
   ]
  },
  {
   "cell_type": "markdown",
   "metadata": {},
   "source": [
    "Unfortunately, using a random forest classifier didn't improve our false positive rate. The model is likely weighting too heavily on the 1 class, and still mostly predicting 1s. We could fix this by applying a harsher penalty for misclassifications of 0s.\n",
    "\n",
    "Ultimately, our best model had a false positive rate of 22%, and a true positive rate of 22%. For a conservative investor, this means that they make money as long as the interest rate is high enough to offset the losses from 22% of borrowers defaulting, and that the pool of 22% of borrowers is just large enough to make enough interest money to offset the losses.\n",
    "\n",
    "Given this, there's still quite a bit of room to improve:\n",
    "\n",
    "- We can tweak the penalties further.\n",
    "- We can try models other than a random forest and logistic regression.\n",
    "- We can use some of the columns we discarded to generate better features.\n",
    "- We can ensemble multiple models to get more accurate predictions.\n",
    "- We can tune the parameters of the algorithm to achieve higher performance."
   ]
  }
 ],
 "metadata": {
  "kernelspec": {
   "display_name": "Python 2",
   "language": "python",
   "name": "python2"
  },
  "language_info": {
   "codemirror_mode": {
    "name": "ipython",
    "version": 2
   },
   "file_extension": ".py",
   "mimetype": "text/x-python",
   "name": "python",
   "nbconvert_exporter": "python",
   "pygments_lexer": "ipython2",
   "version": "2.7.14"
  }
 },
 "nbformat": 4,
 "nbformat_minor": 2
}
