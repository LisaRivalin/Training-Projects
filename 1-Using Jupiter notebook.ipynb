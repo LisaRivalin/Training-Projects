{
 "cells": [
  {
   "cell_type": "markdown",
   "metadata": {},
   "source": [
    "<h1> <center> \n",
    "Dataquest Guided Project 1:\n",
    "Using Jupyter notebook\n",
    "</center>\n",
    "</h1>"
   ]
  },
  {
   "cell_type": "markdown",
   "metadata": {},
   "source": [
    "## Introduction"
   ]
  },
  {
   "cell_type": "markdown",
   "metadata": {},
   "source": [
    "This is part of the Dataquest program.\n",
    "\n",
    "- part of paths **Data Analyst in Python & Data Scientist in Python**\n",
    "    - Step 1 : **Introduction to Python**\n",
    "        - Course 1 : **Python programming: Beginner**\n",
    "            - Python basics\n",
    "            - Files\n",
    "            - Loops\n",
    "            - conditional logic\n",
    "            - List operations\n",
    "            - Dictionaries\n",
    "            - Introduction to functions\n",
    "            - Debugging errors \n",
    "\n",
    "\n",
    "The purpose is to understand Jupyter's features. As it is part of the Python programming: beginner course, we will use very basic Python functionalities.\n",
    "As this is a guided project, we are following and deepening the steps suggested by Dataquest. "
   ]
  },
  {
   "cell_type": "markdown",
   "metadata": {},
   "source": [
    "## Use case : Birth Dates in the United States "
   ]
  },
  {
   "cell_type": "markdown",
   "metadata": {},
   "source": [
    "The raw data behind the story **Some People Are Too Superstitious To Have A Baby On Friday The 13th.**, which you can read [here](https://fivethirtyeight.com/features/some-people-are-too-superstitious-to-have-a-baby-on-friday-the-13th/)\n",
    "\n",
    "We'll be working with the data set from the Centers for Disease Control and Prevention's National Center for Health Statistics. The data set has the following structure:\n",
    "\n",
    "\n",
    "| Header | Definition   |\n",
    "|------|------|\n",
    "|   year  | Year|\n",
    "|   month  | Month|\n",
    "|   date_of_month  | Day number of the month|\n",
    "|   date_of_week  | Day of week, where 1 is Monday and 7 is Sunday|\n",
    "|   births  | Number of births|"
   ]
  },
  {
   "cell_type": "markdown",
   "metadata": {},
   "source": [
    "#### Load file and prepare data for the study"
   ]
  },
  {
   "cell_type": "code",
   "execution_count": 1,
   "metadata": {},
   "outputs": [],
   "source": [
    "file = open(\"births.csv\", \"r\")\n",
    "data = file.read()"
   ]
  },
  {
   "cell_type": "code",
   "execution_count": 2,
   "metadata": {
    "collapsed": true
   },
   "outputs": [],
   "source": [
    "file_lines = data.split('\\n')"
   ]
  },
  {
   "cell_type": "code",
   "execution_count": 3,
   "metadata": {},
   "outputs": [],
   "source": [
    "new_file = []\n",
    "for row in file_lines:\n",
    "    splitted_row = row.split(',')\n",
    "    new_file.append(splitted_row)"
   ]
  },
  {
   "cell_type": "markdown",
   "metadata": {},
   "source": [
    "#### Count the number of total births for each unique day of the week"
   ]
  },
  {
   "cell_type": "code",
   "execution_count": 4,
   "metadata": {},
   "outputs": [
    {
     "data": {
      "text/plain": [
       "{'1': 5789166,\n",
       " '2': 6446196,\n",
       " '3': 6322855,\n",
       " '4': 6288429,\n",
       " '5': 6233657,\n",
       " '6': 4562111,\n",
       " '7': 4079723}"
      ]
     },
     "execution_count": 4,
     "metadata": {},
     "output_type": "execute_result"
    }
   ],
   "source": [
    "days_counts = {}\n",
    "data_no_header = new_file[1:]\n",
    "\n",
    "for row in data_no_header:\n",
    "    day_of_week = row[3]\n",
    "    births = int(row[4])\n",
    "    if day_of_week in days_counts:\n",
    "        days_counts[day_of_week] = days_counts[day_of_week] + births\n",
    "    else:\n",
    "        days_counts[day_of_week] = births\n",
    "days_counts"
   ]
  },
  {
   "cell_type": "markdown",
   "metadata": {},
   "source": [
    "####  Let's focus on the 13th of every month:\n",
    "We now count the number of total birth for each unique day of the week for the 13th of each month"
   ]
  },
  {
   "cell_type": "code",
   "execution_count": 5,
   "metadata": {},
   "outputs": [
    {
     "data": {
      "text/plain": [
       "{'1': 183812,\n",
       " '2': 194695,\n",
       " '3': 202163,\n",
       " '4': 225395,\n",
       " '5': 182477,\n",
       " '6': 156023,\n",
       " '7': 133119}"
      ]
     },
     "execution_count": 5,
     "metadata": {},
     "output_type": "execute_result"
    }
   ],
   "source": [
    "births_on_13th = dict()\n",
    "for row in data_no_header:\n",
    "    day_of_week = row[3]\n",
    "    births = int(row[4])\n",
    "    day_of_month = row[2]\n",
    "    if day_of_month == '13':\n",
    "        if day_of_week in births_on_13th:\n",
    "            births_on_13th[day_of_week] = births_on_13th[day_of_week] + births\n",
    "        else:\n",
    "            births_on_13th[day_of_week] = births\n",
    "\n",
    "births_on_13th"
   ]
  },
  {
   "cell_type": "markdown",
   "metadata": {},
   "source": [
    "Let's compute the average of babies born on a 13th and compare it to the Friday births."
   ]
  },
  {
   "cell_type": "code",
   "execution_count": 6,
   "metadata": {},
   "outputs": [
    {
     "name": "stdout",
     "output_type": "stream",
     "text": [
      "Average birth on 13th :  182526\n",
      "Babies born on Friday the 13th :  182477\n",
      "Difference of 0 %\n"
     ]
    }
   ],
   "source": [
    "count = 0\n",
    "total = 0\n",
    "for k in births_on_13th :\n",
    "    count += 1\n",
    "    total += births_on_13th[k]\n",
    "average_births = round(total/count)\n",
    "diff = round((births_on_13th['5'] - average_births)/average_births *100)\n",
    "print(\"Average birth on 13th : \", average_births)\n",
    "print(\"Babies born on Friday the 13th : \", births_on_13th['5'])\n",
    "print(\"Difference of {} %\".format(diff))"
   ]
  },
  {
   "cell_type": "markdown",
   "metadata": {},
   "source": [
    "What days are less represented than fridays on the 13th?"
   ]
  },
  {
   "cell_type": "code",
   "execution_count": 7,
   "metadata": {},
   "outputs": [
    {
     "name": "stdout",
     "output_type": "stream",
     "text": [
      "6\n",
      "7\n"
     ]
    }
   ],
   "source": [
    "for k in births_on_13th:\n",
    "    if int(births_on_13th[k]) < int(births_on_13th['5']):\n",
    "        print(k)"
   ]
  },
  {
   "cell_type": "markdown",
   "metadata": {},
   "source": [
    "Saturday and Sundays are a lot less represented than Fridays what makes the average so low. Friday is still the less represented weekday for 13th. "
   ]
  },
  {
   "cell_type": "markdown",
   "metadata": {},
   "source": [
    "#### Let's do the contrary and now study births on Fridays"
   ]
  },
  {
   "cell_type": "code",
   "execution_count": 8,
   "metadata": {},
   "outputs": [
    {
     "data": {
      "text/plain": [
       "{'1': 201762,\n",
       " '10': 203915,\n",
       " '11': 204587,\n",
       " '12': 216804,\n",
       " '13': 182477,\n",
       " '14': 230408,\n",
       " '15': 207967,\n",
       " '16': 195326,\n",
       " '17': 204480,\n",
       " '18': 206260,\n",
       " '19': 218785,\n",
       " '2': 190435,\n",
       " '20': 197206,\n",
       " '21': 230177,\n",
       " '22': 206839,\n",
       " '23': 189479,\n",
       " '24': 194972,\n",
       " '25': 197595,\n",
       " '26': 209739,\n",
       " '27': 192562,\n",
       " '28': 225605,\n",
       " '29': 189638,\n",
       " '3': 201047,\n",
       " '30': 170465,\n",
       " '31': 126173,\n",
       " '4': 201435,\n",
       " '5': 214129,\n",
       " '6': 194399,\n",
       " '7': 229797,\n",
       " '8': 206779,\n",
       " '9': 192415}"
      ]
     },
     "execution_count": 8,
     "metadata": {},
     "output_type": "execute_result"
    }
   ],
   "source": [
    "births_on_fridays = dict()\n",
    "for row in data_no_header:\n",
    "    day_of_week = row[3]\n",
    "    births = int(row[4])\n",
    "    day_of_month = row[2]\n",
    "    if day_of_week == '5':\n",
    "        if day_of_month in births_on_fridays:\n",
    "            births_on_fridays[day_of_month] = births_on_fridays[day_of_month] + births\n",
    "        else:\n",
    "            births_on_fridays[day_of_month] = births\n",
    "\n",
    "births_on_fridays"
   ]
  },
  {
   "cell_type": "markdown",
   "metadata": {},
   "source": [
    "Let's compute the average of babies born on a Friday and compare it to the 13th of the month births."
   ]
  },
  {
   "cell_type": "code",
   "execution_count": 9,
   "metadata": {},
   "outputs": [
    {
     "name": "stdout",
     "output_type": "stream",
     "text": [
      "Average birth on fridays :  201086\n",
      "Babies born on Friday the 13th :  182477\n",
      "Difference of -9 %\n"
     ]
    }
   ],
   "source": [
    "count = 0\n",
    "total = 0\n",
    "for k in births_on_fridays :\n",
    "    count += 1\n",
    "    total += births_on_fridays[k]\n",
    "average_births = round(total/count)\n",
    "diff = round((births_on_fridays['13'] - average_births)/average_births *100)\n",
    "print(\"Average birth on fridays : \", average_births)\n",
    "print(\"Babies born on Friday the 13th : \", births_on_fridays['13'])\n",
    "print(\"Difference of {} %\".format(diff))"
   ]
  },
  {
   "cell_type": "markdown",
   "metadata": {},
   "source": [
    "What days of the month are less represented than 13th on fridays ?"
   ]
  },
  {
   "cell_type": "code",
   "execution_count": 10,
   "metadata": {},
   "outputs": [
    {
     "name": "stdout",
     "output_type": "stream",
     "text": [
      "31\n",
      "30\n"
     ]
    }
   ],
   "source": [
    "for k in births_on_fridays:\n",
    "    if int(births_on_fridays[k]) < int(births_on_fridays['13']):\n",
    "        print(k)"
   ]
  },
  {
   "cell_type": "markdown",
   "metadata": {},
   "source": [
    "Friday the 13th has about 9% fewer births than other Fridays of the year.\n",
    "The two other days that have a fewer newborn on Fridays are the 30 and 31, that makes sense as it does not occur every month. \n",
    "\n",
    "These results are consistent with this [article](https://fivethirtyeight.com/features/some-people-are-too-superstitious-to-have-a-baby-on-friday-the-13th/), where more information can be found."
   ]
  }
 ],
 "metadata": {
  "kernelspec": {
   "display_name": "Python 2",
   "language": "python",
   "name": "python2"
  },
  "language_info": {
   "codemirror_mode": {
    "name": "ipython",
    "version": 2
   },
   "file_extension": ".py",
   "mimetype": "text/x-python",
   "name": "python",
   "nbconvert_exporter": "python",
   "pygments_lexer": "ipython2",
   "version": "2.7.14"
  }
 },
 "nbformat": 4,
 "nbformat_minor": 1
}
